{
 "cells": [
  {
   "cell_type": "code",
   "execution_count": 0,
   "metadata": {
    "colab": {},
    "colab_type": "code",
    "id": "NZQvlXyTPJOz"
   },
   "outputs": [],
   "source": [
    "#문제 4. Hello World! 를 출력하세요."
   ]
  },
  {
   "cell_type": "code",
   "execution_count": 0,
   "metadata": {
    "colab": {},
    "colab_type": "code",
    "id": "UA6z6kMIPRgQ"
   },
   "outputs": [],
   "source": [
    "#문제 5. 주어진 숫자를 더해 출력하세요.\n",
    "#출력 형식: The sum of 2.8 and 9.4 is 12.2\n",
    "\n",
    "num1 = 2.8\n",
    "num2 = 9.4"
   ]
  },
  {
   "cell_type": "code",
   "execution_count": 0,
   "metadata": {
    "colab": {},
    "colab_type": "code",
    "id": "NMJ8FiWZnJtU"
   },
   "outputs": [],
   "source": [
    "#문제 6.print 함수와 separator를 이용해 오늘 날짜를 출력하세요 (예: 2019-10-19). \n"
   ]
  },
  {
   "cell_type": "code",
   "execution_count": 0,
   "metadata": {
    "colab": {},
    "colab_type": "code",
    "id": "x0bPtqymnLEi"
   },
   "outputs": [],
   "source": [
    "#문제 7. %로 문자열을 포맷팅해 본인의 이름과 좋아하는 숫자를 출력하세요.\n",
    "#출력 예시: 김학래가 좋아하는 숫자는 49입니다.\n",
    "\n"
   ]
  },
  {
   "cell_type": "code",
   "execution_count": 0,
   "metadata": {
    "colab": {},
    "colab_type": "code",
    "id": "EOd-bqj5nwxn"
   },
   "outputs": [],
   "source": [
    "#문제 8. print문에서 다음 숫자를 아래와 같이 출력하세요.\n",
    "#입력 숫자: 894, 1234.5678\n",
    "#출력: ID: 00894, Budget: 1234.12 \n",
    "\n"
   ]
  },
  {
   "cell_type": "code",
   "execution_count": 0,
   "metadata": {
    "colab": {},
    "colab_type": "code",
    "id": "GGxYlq58rwLb"
   },
   "outputs": [],
   "source": [
    "#문제 9. 문자열을 치환하세요.\n",
    "#입력문자: 좋은사람\n",
    "#출력형식: 치환결과 - 멋진사람\n",
    "\n",
    "str = \"좋은사람\"\n"
   ]
  },
  {
   "cell_type": "code",
   "execution_count": 0,
   "metadata": {
    "colab": {},
    "colab_type": "code",
    "id": "DvhkJbzgyf6Y"
   },
   "outputs": [],
   "source": [
    "#문제 10. 문자열에서 특정문자만 출력하세요.\n",
    "#입력: chungang university\n",
    "#출력: ang\n",
    "\n",
    "str = 'chungang university'\n"
   ]
  },
  {
   "cell_type": "code",
   "execution_count": 0,
   "metadata": {
    "colab": {},
    "colab_type": "code",
    "id": "Us1-skJqz33r"
   },
   "outputs": [],
   "source": [
    "#문제 11. 수학, 영어 성적이 모두 90 이상이면 '합격', 그렇지 않은 경우 '불합격'을 출력하세요.  \n",
    "#입력 변수는 아래와 같습니다.\n",
    "math = 90\n",
    "english = 90\n",
    "\n"
   ]
  },
  {
   "cell_type": "code",
   "execution_count": 0,
   "metadata": {
    "colab": {},
    "colab_type": "code",
    "id": "C0il1ykr3GIE"
   },
   "outputs": [],
   "source": [
    "#문제 12. 아이디/패스워드가 admin/1234이면 \"관리자 로그인 성공\", super/1234이면 \"관리자 로그인 성공\", \"최고관리자 로그인\"으로 출력하세요\n",
    "admin = \"admin\"\n",
    "super_user = \"super\"\n",
    "pwd = \"1234\"\n"
   ]
  },
  {
   "cell_type": "code",
   "execution_count": 0,
   "metadata": {
    "colab": {},
    "colab_type": "code",
    "id": "u0-sHL7b4A7B"
   },
   "outputs": [],
   "source": [
    "#문제 13. 다음 조건을 처리할 수 있는 코드를 작성하세요.\n",
    "#수학 성적이 90점 이상이고, 영어 성적이 90점 이상이면 \"A 지원 가능\", 80점 이상이면 \"B 지원 가능\", 그렇지 않으면 \"지원불가\"\n",
    "#수학 성적이 90점 이하이면 \"수학 성적 (45)로 지원할 수 없습니다\"\n",
    "\n",
    "math = 45\n",
    "english = 85\n"
   ]
  },
  {
   "cell_type": "code",
   "execution_count": 0,
   "metadata": {
    "colab": {},
    "colab_type": "code",
    "id": "tOagaPsI8Uzm"
   },
   "outputs": [],
   "source": [
    "#문제 14. 다음 세 개의 숫자 중 가장 큰수를 출력하세요.(if문 사용) : 12, 6, 18\n",
    "\n",
    "a = 12\n",
    "b = 6\n",
    "c = 18\n"
   ]
  },
  {
   "cell_type": "code",
   "execution_count": 0,
   "metadata": {
    "colab": {},
    "colab_type": "code",
    "id": "mkkbOYsQA094"
   },
   "outputs": [],
   "source": [
    "#문제 15. 다음 주민등록 번호에서 7자리 숫자를 사용해서 남자, 여자를 판별하세요. (1,3 : 남자, 2,4 : 여자)\n",
    "\n",
    "num = '831012-2433437'"
   ]
  },
  {
   "cell_type": "code",
   "execution_count": 0,
   "metadata": {
    "colab": {},
    "colab_type": "code",
    "id": "rPSzoaDH4q10"
   },
   "outputs": [],
   "source": [
    "#문제 16. while 문을 이용해 1에서 10까지 출력하세요.\n",
    "#출력 형식: \n",
    "#number is 1\n",
    "#number is 2\n"
   ]
  },
  {
   "cell_type": "code",
   "execution_count": 0,
   "metadata": {
    "colab": {},
    "colab_type": "code",
    "id": "SZjzrTG9sn9b"
   },
   "outputs": [],
   "source": [
    "#문제 17. 다음을 딕셔너리(dict)으로 선언하고, 출력하세요. \n",
    "#입력: <성인 - 12000 , 청소년 - 10000 , 아동 - 6000>\n",
    "  \n"
   ]
  },
  {
   "cell_type": "code",
   "execution_count": 0,
   "metadata": {
    "colab": {},
    "colab_type": "code",
    "id": "LX-w_jzHxzqh"
   },
   "outputs": [],
   "source": [
    "#문제 18. 딕셔너리(dict)에서 Key 항목만 출력하세요.\n",
    "#입력: <성인 - 12000 , 청소년 - 10000 , 아동 - 6000>\n"
   ]
  },
  {
   "cell_type": "code",
   "execution_count": 0,
   "metadata": {
    "colab": {},
    "colab_type": "code",
    "id": "ewcev-y3yW2s"
   },
   "outputs": [],
   "source": [
    "#문제 19. 딕셔너리(dict)에서 value 항목만 출력하세요.\n",
    "#입력: <성인 - 12000 , 청소년 - 10000 , 아동 - 6000>\n"
   ]
  },
  {
   "cell_type": "code",
   "execution_count": 0,
   "metadata": {
    "colab": {},
    "colab_type": "code",
    "id": "7Cg0v3Ijy4zV"
   },
   "outputs": [],
   "source": [
    "#문제 20. 리스트를 선언하고, 'Apple'을 삭제하세요.\n",
    "#리스트 항목: Banana, Apple, Orange\n"
   ]
  },
  {
   "cell_type": "code",
   "execution_count": 0,
   "metadata": {
    "colab": {},
    "colab_type": "code",
    "id": "oYvS1MaN6UC4"
   },
   "outputs": [],
   "source": [
    "#문제 21. for문, range 함수를 이용해 1에서 10까지 출력하세요.\n",
    "#출력 형식: \n",
    "#number is 1\n",
    "#number is 2\n"
   ]
  },
  {
   "cell_type": "code",
   "execution_count": 0,
   "metadata": {
    "colab": {},
    "colab_type": "code",
    "id": "yeaOmbGepDN6"
   },
   "outputs": [],
   "source": [
    "#문제 22. 구단을 출력하세요 (1단에서 9단까지)\n",
    "#출력 예시: 1 * 1 = 1\n"
   ]
  },
  {
   "cell_type": "code",
   "execution_count": 0,
   "metadata": {
    "colab": {},
    "colab_type": "code",
    "id": "qjgWDpiQ6_7V"
   },
   "outputs": [],
   "source": [
    "#문제 23. for, range를 이용해서 0에서 100까지 10씩 증가하는 숫자를 출력하세요.\n",
    "#출력형식: num is 0\n"
   ]
  },
  {
   "cell_type": "code",
   "execution_count": 0,
   "metadata": {
    "colab": {},
    "colab_type": "code",
    "id": "Mk7orsgY7d9u"
   },
   "outputs": [],
   "source": [
    "#문제 24. 다음 배열의 숫자를 하나씩 출력하세요.\n",
    "#출력예시: The number is 11\n",
    "numbers = [11, 101, 21, 56, 36, 52]\n"
   ]
  },
  {
   "cell_type": "code",
   "execution_count": 0,
   "metadata": {
    "colab": {},
    "colab_type": "code",
    "id": "LBPIPxLaBcoD"
   },
   "outputs": [],
   "source": [
    "#문제 25. 아래 리스트 항목 중에서 5글자 이상의 단어만 출력하세요.\n",
    "string = [\"cool\", \"chungang\", \"python\", \"surprised\", \"!\"]\n"
   ]
  },
  {
   "cell_type": "code",
   "execution_count": 0,
   "metadata": {
    "colab": {},
    "colab_type": "code",
    "id": "iYrtSc3oznL9"
   },
   "outputs": [],
   "source": [
    "#문제 26. 리스트 x와 y를 결합해서 리스트 z를 만들고 (y 항목의 배열 인덱스가 0, 1, 2로 시작), z의 항목을 다음과 같이 출력하세요.\n",
    "# x = [10, 20, 30]\n",
    "# y = [40, 50, 60]\n",
    "# 출력 형식: z는 1을(를) 갖고 있다.\n",
    "\n",
    "x = [10, 20, 30]\n",
    "y = [40, 50, 60]\n"
   ]
  },
  {
   "cell_type": "code",
   "execution_count": 0,
   "metadata": {
    "colab": {},
    "colab_type": "code",
    "id": "OQyjtIvs0lsK"
   },
   "outputs": [],
   "source": [
    "# 문제 27. 다음 리스트에 있는 숫자에서 최대, 최소값을 함수를 정의해서 출력하는 코드를 작성하세요\n",
    "# 출력 형식: The MIN number is 43\n",
    "#          The MAX number is 58585\n",
    "\n",
    "num = [ 100, 200, 43, 3454, 58585, 28343, 393]\n",
    "\n"
   ]
  },
  {
   "cell_type": "code",
   "execution_count": 0,
   "metadata": {
    "colab": {},
    "colab_type": "code",
    "id": "RoLEtt-TzASz"
   },
   "outputs": [],
   "source": [
    "# 문제 28. 함수를 정의하고 주어진 숫자의 모든 합을 계산해 출력하세요.\n",
    "# 주어진 숫자: 1, 3, 10\n",
    "\n",
    "print(sum([1,3,10]))"
   ]
  },
  {
   "cell_type": "code",
   "execution_count": 0,
   "metadata": {
    "colab": {},
    "colab_type": "code",
    "id": "zEX_PP-U5vV6"
   },
   "outputs": [],
   "source": [
    "#문제 29. 주어진 원화 (won)를 환율을 반영해 달러, 유로로 변환하고 출력하세요.\n",
    "# 1000  won = 0.77 euro | 0.85 dollar \n",
    "# 1 euro = 1306.97 won, 1 dollar = 1173.96 won\n",
    "# 입력 예시: money = [1000, 2000, 1000000, 5342150, 90000, 36521458, 201201, 96521]\n",
    "# 출력 예시: WON: [1000, 2000, 1000000, 5342150, 90000, 36521458, 201201, 96521]\n",
    "#          USD: [0.85, 1.71, 852.86, 4556.13, 76.76, 31147.83, 171.6, 82.32]\n",
    "#          Euro: [0.77, 1.54, 767.57, 4100.52, 69.08, 28033.05, 154.44, 74.09]\n",
    "\n",
    "\n",
    "# 원(￦)에서 달러($)로 바꿔주는 함수\n",
    "def krw_to_usd(won):\n",
    "    # 코드를 입력하세요.\n",
    "\n",
    "# 원(￦)에서 유로(￥)로 바꿔주는 함수\n",
    "def usd_to_euro(dollar):\n",
    "    # 코드를 입력하세요.\n",
    "\n",
    "# 원(￦)으로 각각 얼마인가요?\n",
    "money = [1000, 2000, 3000, 5000, 8000, 13000, 21000, 34000]\n",
    "print(\"WON: \" + str(money))\n",
    " \n",
    "# amounts를 원(￦)에서 달러($)로 바꿔주기\n",
    "# 코드를 입력하세요.\n",
    "\n",
    "# 달러($)로 각각 얼마인가요?\n",
    "print(\"USD: \" + str(money))\n",
    "\n",
    "# amounts를 달러($)에서 엔(￥)으로 바꿔주기\n",
    "# 코드를 입력하세요.\n",
    "\n",
    "# 엔(￥)으로 각각 얼마인가요?\n",
    "print(\"Euro: \" + str(money))"
   ]
  },
  {
   "cell_type": "code",
   "execution_count": null,
   "metadata": {
    "colab": {},
    "colab_type": "code",
    "id": "CBRLnOnX6pGi"
   },
   "outputs": [],
   "source": [
    "#문제 30. 가장 의미있는 영어 단어를 찾으려고 합니다. 알파벳 순서대로 a는 1, b는 2, c는 3 .. z는 26점이 됩니다.\n",
    "# 어떤 단어를 입력했을 때, 그 단어의 점수를 계산하는 코드를 작성하세요.\n",
    "# Attitude: 100, Hard work (98), Love (54), Happy (85)\n",
    "\n",
    "str = 'abcdefghijklnmopqrstuvwxyz'"
   ]
  },
  {
   "cell_type": "code",
   "execution_count": null,
   "metadata": {},
   "outputs": [],
   "source": []
  }
 ],
 "metadata": {
  "colab": {
   "collapsed_sections": [],
   "name": "DataScience-Mid-Term-Exam-1023.ipynb",
   "provenance": []
  },
  "kernelspec": {
   "display_name": "Python 3",
   "language": "python",
   "name": "python3"
  }
 },
 "nbformat": 4,
 "nbformat_minor": 1
}
